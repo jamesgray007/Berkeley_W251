{
 "cells": [
  {
   "cell_type": "markdown",
   "metadata": {
    "collapsed": true
   },
   "source": [
    "#### James Gray | jamesgray@ischool.berkeley.edu\n",
    "#### UC Berkeley School of Information - W251\n",
    "#### Week 7 Assignment\n",
    "\n",
    "* https://github.com/MIDS-scaling-up/coursework/tree/master/week7/hw"
   ]
  },
  {
   "cell_type": "markdown",
   "metadata": {},
   "source": [
    "## Using Softlayer Object Storage Python Client to manage Swift\n",
    "\n",
    "https://github.com/softlayer/softlayer-object-storage-python"
   ]
  },
  {
   "cell_type": "code",
   "execution_count": 11,
   "metadata": {
    "collapsed": false
   },
   "outputs": [],
   "source": [
    "import object_storage\n",
    "import os\n",
    "import time\n",
    "\n",
    "DATAFILE = os.path.expanduser(\"~/onedrive/github/Berkeley_W251/googlebooks.csv\")\n",
    "googlefilesize = 1596  \n",
    "\n",
    "# connect to storage account\n",
    "sl_storage = object_storage.get_client('SLOS856755-2:SL856755',\n",
    "                                       '', \n",
    "                                       datacenter='dal05')\n"
   ]
  },
  {
   "cell_type": "code",
   "execution_count": 7,
   "metadata": {
    "collapsed": false
   },
   "outputs": [
    {
     "data": {
      "text/plain": [
       "[Container(more_files), Container(myfiles), Container(week7)]"
      ]
     },
     "execution_count": 7,
     "metadata": {},
     "output_type": "execute_result"
    }
   ],
   "source": [
    "# view storage containers\n",
    "sl_storage.containers()"
   ]
  },
  {
   "cell_type": "code",
   "execution_count": null,
   "metadata": {
    "collapsed": false
   },
   "outputs": [],
   "source": [
    "# create storage container for this assignment\n",
    "try:\n",
    "    sl_storage['week7'].create()\n",
    "except ResponseError:\n",
    "    print ResponseError"
   ]
  },
  {
   "cell_type": "code",
   "execution_count": 12,
   "metadata": {
    "collapsed": false
   },
   "outputs": [
    {
     "name": "stdout",
     "output_type": "stream",
     "text": [
      "Total upload time 143.199480057 seconds\n",
      "Upload speed = 11.145291864 MB/sec\n"
     ]
    }
   ],
   "source": [
    "# upload 1GB > file to the container \n",
    "\n",
    "try:\n",
    "    sl_storage['week7']['googlebooks2.csv'].create()\n",
    "\n",
    "except ResponseError:\n",
    "    print ResponseError\n",
    "    \n",
    "try:\n",
    "    uploadstart = time.time()\n",
    "    fileUpload = sl_storage['week7']['googlebooks2.csv'].load_from_filename(DATAFILE)\n",
    "except object_storage.errors.ResponseError:\n",
    "    print ResponseError\n",
    "\n",
    "uploadcomplete = time.time()\n",
    "\n",
    "uploadtime = uploadcomplete - uploadstart\n",
    "print \"Total upload time \" + str(uploadtime) + \" seconds\"\n",
    "uploadspeed = googlefilesize/uploadtime\n",
    "print \"Upload speed = \" + str(uploadspeed) + \" MB/sec\""
   ]
  },
  {
   "cell_type": "code",
   "execution_count": 13,
   "metadata": {
    "collapsed": false
   },
   "outputs": [
    {
     "name": "stdout",
     "output_type": "stream",
     "text": [
      "Total download time = 199.914308071\n",
      "Download speed = 7.98342057354 MB/sec\n"
     ]
    }
   ],
   "source": [
    "# download file from the container \n",
    "\n",
    "downloadstart = time.time()\n",
    "\n",
    "try:\n",
    "    uploadstart = time.time()\n",
    "    sl_storage['week7']['googlebooks2.csv'].read()\n",
    "except object_storage.errors.ResponseError:\n",
    "    print ResponseError\n",
    "\n",
    "downloadcomplete = time.time()\n",
    "\n",
    "downloadtime = downloadcomplete - downloadstart\n",
    "print \"Total download time = \" + str(downloadtime)\n",
    "downloadspeed = googlefilesize/downloadtime\n",
    "print \"Download speed = \" + str(downloadspeed) + \" MB/sec\""
   ]
  },
  {
   "cell_type": "code",
   "execution_count": 10,
   "metadata": {
    "collapsed": false
   },
   "outputs": [
    {
     "data": {
      "text/plain": [
       "[StorageObject(week7, tweets2.json, 38731776B),\n",
       " StorageObject(week7, googlebooks.csv, 1674466136B),\n",
       " StorageObject(week7, random.hdf5, 4000002144B)]"
      ]
     },
     "execution_count": 10,
     "metadata": {},
     "output_type": "execute_result"
    }
   ],
   "source": [
    "# list the data in the week7 container\n",
    "sl_storage['week7'].objects()\n"
   ]
  },
  {
   "cell_type": "code",
   "execution_count": 9,
   "metadata": {
    "collapsed": false
   },
   "outputs": [
    {
     "data": {
      "text/plain": [
       "True"
      ]
     },
     "execution_count": 9,
     "metadata": {},
     "output_type": "execute_result"
    }
   ],
   "source": [
    "# delete file object in week7 container\n",
    "\n",
    "sl_storage['week7']['googlebooks2.csv'].delete()"
   ]
  },
  {
   "cell_type": "code",
   "execution_count": null,
   "metadata": {
    "collapsed": true
   },
   "outputs": [],
   "source": [
    "# run two threads in parallel\n"
   ]
  },
  {
   "cell_type": "markdown",
   "metadata": {},
   "source": [
    "## Using the REST API to manage Swift\n",
    "\n",
    "* https://sldn.softlayer.com/blog/waelriac/Managing-SoftLayer-Object-Storage-Through-REST-APIs\n",
    "* http://sldn.softlayer.com/blog/bpotter/more-softlayer-rest-api-examples\n",
    "* http://sldn.softlayer.com/article/rest\n",
    "* http://www.cloudsoftcorp.com/blog/2014/04/crib-sheet-softlayer-object-storage-keystone/"
   ]
  },
  {
   "cell_type": "code",
   "execution_count": null,
   "metadata": {
    "collapsed": false
   },
   "outputs": [],
   "source": [
    "# get authentication tokens for user and storage account\n",
    "! curl -i -H \"X-Auth-User: SLOS856755-2:SL856755 \" \\\n",
    "-H \"X-Auth-Key: \" \\\n",
    "https://dal05.objectstorage.softlayer.net/auth/v1.0"
   ]
  },
  {
   "cell_type": "code",
   "execution_count": 1,
   "metadata": {
    "collapsed": false
   },
   "outputs": [
    {
     "name": "stdout",
     "output_type": "stream",
     "text": [
      "HTTP/1.1 200 OK\r",
      "\r\n",
      "Content-Length: 25\r",
      "\r\n",
      "X-Account-Meta-Nas-Id: 8571659\r",
      "\r\n",
      "X-Account-Object-Count: 8\r",
      "\r\n",
      "X-Account-Storage-Policy-Standard-Container-Count: 3\r",
      "\r\n",
      "X-Timestamp: 1452997391.90664\r",
      "\r\n",
      "X-Account-Meta-Cdn-Id: 75651\r",
      "\r\n",
      "X-Account-Storage-Policy-Standard-Object-Count: 8\r",
      "\r\n",
      "X-Account-Bytes-Used: 10736598492\r",
      "\r\n",
      "X-Account-Container-Count: 3\r",
      "\r\n",
      "Content-Type: text/plain; charset=utf-8\r",
      "\r\n",
      "Accept-Ranges: bytes\r",
      "\r\n",
      "X-Account-Storage-Policy-Standard-Bytes-Used: 10736598492\r",
      "\r\n",
      "X-Trans-Id: txe62b489c53bb4956bb9a7-0056cbd237\r",
      "\r\n",
      "Date: Tue, 23 Feb 2016 03:29:59 GMT\r",
      "\r\n",
      "\r",
      "\r\n",
      "more_files\r\n",
      "myfiles\r\n",
      "week7\r\n"
     ]
    }
   ],
   "source": [
    "# list containers\n",
    "! curl -i -H \"X-Auth-Token: \" \\\n",
    "https://dal05.objectstorage.softlayer.net/v1/AUTH_a26db204-4ebf-4d13-b9f6-2e1e9ec4209f"
   ]
  },
  {
   "cell_type": "code",
   "execution_count": 2,
   "metadata": {
    "collapsed": false
   },
   "outputs": [
    {
     "name": "stdout",
     "output_type": "stream",
     "text": [
      "HTTP/1.1 200 OK\r",
      "\r\n",
      "Content-Length: 92\r",
      "\r\n",
      "X-Container-Object-Count: 6\r",
      "\r\n",
      "Accept-Ranges: bytes\r",
      "\r\n",
      "X-Storage-Policy: standard\r",
      "\r\n",
      "X-Container-Bytes-Used: 10736598464\r",
      "\r\n",
      "X-Timestamp: 1456008266.39793\r",
      "\r\n",
      "Content-Type: text/plain; charset=utf-8\r",
      "\r\n",
      "X-Trans-Id: tx0a56dbeed93144e89b3b0-0056cbd23d\r",
      "\r\n",
      "Date: Tue, 23 Feb 2016 03:30:05 GMT\r",
      "\r\n",
      "\r",
      "\r\n",
      "googlebooks.csv\r\n",
      "googlebooks2.csv\r\n",
      "googlebooks3.csv\r\n",
      "googlebooks4.csv\r\n",
      "random.hdf5\r\n",
      "tweets2.json\r\n"
     ]
    }
   ],
   "source": [
    "# list files in week7 container\n",
    "! curl -i -H \"X-Auth-Token: \" \\\n",
    "https://dal05.objectstorage.softlayer.net/v1/AUTH_a26db204-4ebf-4d13-b9f6-2e1e9ec4209f/week7"
   ]
  },
  {
   "cell_type": "code",
   "execution_count": null,
   "metadata": {
    "collapsed": false
   },
   "outputs": [],
   "source": [
    "# upload file to week7 container\n",
    "\n",
    "uploadstart = time.time()\n",
    "filesize = 3815\n",
    "    \n",
    "! curl -i -XPUT -H \"X-Auth-Token: \" \\\n",
    "-T random.hdf5 https://dal05.objectstorage.softlayer.net/v1/AUTH_a26db204-4ebf-4d13-b9f6-2e1e9ec4209f/week7/random.hdf5\n",
    "\n",
    "uploadcomplete = time.time()\n",
    "\n",
    "uploadtime = uploadcomplete - uploadstart\n",
    "print \"Total upload time \" + str(uploadtime) + \" seconds\"\n",
    "uploadspeed = filesize/uploadtime\n",
    "print \"Upload speed = \" + str(uploadspeed) + \" MB/sec\""
   ]
  },
  {
   "cell_type": "code",
   "execution_count": null,
   "metadata": {
    "collapsed": false
   },
   "outputs": [],
   "source": [
    "# upload file to week7 container\n",
    "\n",
    "uploadstart = time.time()\n",
    "filesize = 1597\n",
    "    \n",
    "! curl -i -XPUT -H \"X-Auth-Token: \" \\\n",
    "-T googlebooks.csv https://dal05.objectstorage.softlayer.net/v1/AUTH_a26db204-4ebf-4d13-b9f6-2e1e9ec4209f/week7/googlebooks.csv\n",
    "\n",
    "uploadcomplete = time.time()\n",
    "\n",
    "uploadtime = uploadcomplete - uploadstart\n",
    "print \"Total upload time \" + str(uploadtime) + \" seconds\"\n",
    "uploadspeed = filesize/uploadtime\n",
    "print \"Upload speed = \" + str(uploadspeed) + \" MB/sec\""
   ]
  },
  {
   "cell_type": "code",
   "execution_count": null,
   "metadata": {
    "collapsed": false
   },
   "outputs": [],
   "source": [
    "# download file from week7 container\n",
    "\n",
    "downloadstart = time.time()\n",
    "\n",
    "! curl -i -H \"X-Auth-Token: \" \\\n",
    "https://dal05.objectstorage.softlayer.net/v1/AUTH_a26db204-4ebf-4d13-b9f6-2e1e9ec4209f/week7/googlebooks.csv\n",
    "    \n",
    "downloadcomplete = time.time()\n",
    "downloadtime = downloadcomplete - downloadstart \n",
    "print \"Total download time \" + str(downloadtime) + \" seconds\"\n",
    "\n",
    "downloadspeed = filesize/downloadtime\n",
    "print \"Download speed = \" + str(downloadspeed) + \" MB/sec\"\n"
   ]
  },
  {
   "cell_type": "code",
   "execution_count": null,
   "metadata": {
    "collapsed": false
   },
   "outputs": [],
   "source": [
    "# delete an object\n",
    "\n",
    "! curl -X DELETE -H \"X-Auth-Token: \" \\\n",
    "https://dal05.objectstorage.softlayer.net/v1/AUTH_a26db204-4ebf-4d13-b9f6-2e1e9ec4209f/week7/random.hdf5\n"
   ]
  },
  {
   "cell_type": "markdown",
   "metadata": {
    "collapsed": true
   },
   "source": [
    "## Part 4 - Answers to Questions\n",
    "\n",
    "Here are the object files:\n",
    "\n",
    "* https://dal05.objectstorage.softlayer.net/v1/AUTH_a26db204-4ebf-4d13-b9f6-2e1e9ec4209f/week7/googlebooks.csv\n",
    "\n",
    "![Screen Shot](ScreenShot2.png)\n",
    "\n",
    "* **What is the average READ speed in Mb/sec?**\n",
    "\n",
    "* The googlebooks.csv download was approximately 8MB/sec (200 seconds)\n",
    "\n",
    "\n",
    "* **What is the average WRITE speed in Mb/sec?**\n",
    "\n",
    "* The 4GB file averaged about 11MB/sec for approximately total 340 seconds. \n",
    " \n",
    "* I also posted a googlebooks.csv file (1.56 GB) that uploaded in 11MB/sec (143 seconds)\n",
    "\n",
    "\n",
    "* **Can you account for the discrepancies? Consider all of the possible reasons and explain.**\n",
    "\n",
    "Not 100% sure but perhaps that upload is optimized at the Swift layer for writing to the infrastructure. \n",
    "\n",
    "\n",
    "* **What happens to these speeds if you run two threads in parallel?**\n",
    "\n",
    "Python scripts google3up.py and google4up.py were executed in parallel from 2 separate command windows.  The first file finished in 268 seconds (5.93 MB/sec) and the second file finished in 284 seconds (5.61 MB/sec).  It looks likes that bandwidth was constrained and it took longer to upload these files in parallel.\n",
    "\n",
    "![Screen Shot](ScreenShot.png)\n"
   ]
  }
 ],
 "metadata": {
  "kernelspec": {
   "display_name": "Python 2",
   "language": "python",
   "name": "python2"
  },
  "language_info": {
   "codemirror_mode": {
    "name": "ipython",
    "version": 2
   },
   "file_extension": ".py",
   "mimetype": "text/x-python",
   "name": "python",
   "nbconvert_exporter": "python",
   "pygments_lexer": "ipython2",
   "version": "2.7.10"
  }
 },
 "nbformat": 4,
 "nbformat_minor": 0
}
